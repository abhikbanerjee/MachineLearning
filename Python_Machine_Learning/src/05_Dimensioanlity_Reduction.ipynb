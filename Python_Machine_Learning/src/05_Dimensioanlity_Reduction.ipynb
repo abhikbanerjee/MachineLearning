{
 "cells": [
  {
   "cell_type": "markdown",
   "metadata": {},
   "source": [
    "# Data Compression - Dimensionality Reduction - SkLearn"
   ]
  },
  {
   "cell_type": "code",
   "execution_count": 20,
   "metadata": {
    "collapsed": false
   },
   "outputs": [],
   "source": [
    "import numpy as np\n",
    "import pandas as pd\n",
    "df_wine = pd.read_csv('/Users/tkmacl9/Desktop/Patents_Research_Papers_Personalization/All_Machine_Learning/wine_UCI.csv', header=None)\n",
    "df_wine.columns = ['Class label', 'Alcohol','Malic acid', 'Ash', \n",
    "                   'Alcalinity of ash', 'Magnesium', 'Total phenols', \n",
    "                   'Flavanoids','Nonflavanoid phenols', 'Proanthocyanins', \n",
    "                   'Color intensity', 'Hue', 'OD280/OD315 of diluted wines', 'Proline']"
   ]
  },
  {
   "cell_type": "code",
   "execution_count": 11,
   "metadata": {
    "collapsed": true
   },
   "outputs": [],
   "source": [
    "from sklearn.cross_validation import train_test_split\n",
    "from sklearn.preprocessing import StandardScaler\n",
    "\n",
    "X, y = df_wine.iloc[:,1:].values, df_wine.iloc[:,0].values\n",
    "X_train, X_test, y_train, y_test = train_test_split(X,y,test_size=0.3, random_state=0)\n",
    "sc = StandardScaler()\n",
    "X_train_std = sc.fit_transform(X_train)\n",
    "X_test_std = sc.transform(X_test)\n"
   ]
  },
  {
   "cell_type": "code",
   "execution_count": 23,
   "metadata": {
    "collapsed": false
   },
   "outputs": [],
   "source": [
    "cov_mat = np.cov(X_test_std.T)\n",
    "eigen_values, eigen_vectors = np.linalg.eig(cov_mat)"
   ]
  },
  {
   "cell_type": "code",
   "execution_count": 29,
   "metadata": {
    "collapsed": false
   },
   "outputs": [
    {
     "data": {
      "text/plain": [
       "array([[ 0.16886997, -0.467317  ,  0.4016489 , -0.08694502, -0.01138094,\n",
       "        -0.41180617,  0.12496363,  0.30108147,  0.31739672, -0.35361088,\n",
       "        -0.26417715, -0.11252234, -0.00211917],\n",
       "       [-0.21261403, -0.19813765,  0.08483604,  0.41235989, -0.57891822,\n",
       "        -0.29726441, -0.26161843, -0.16286142,  0.19537765,  0.31703974,\n",
       "         0.16626559,  0.07669211, -0.21818773],\n",
       "       [ 0.10688017, -0.32699677, -0.6238769 , -0.00553525, -0.24003186,\n",
       "        -0.01122774,  0.24784658, -0.12364948,  0.07155087,  0.00952197,\n",
       "        -0.37346795,  0.34858183,  0.30288686],\n",
       "       [-0.11959163, -0.0649219 , -0.43893358,  0.32258864,  0.08513528,\n",
       "        -0.06861996,  0.36011143, -0.03721172,  0.07325493, -0.40841489,\n",
       "         0.29944635, -0.38917874, -0.35838246],\n",
       "       [ 0.20917585, -0.34175904, -0.16896007, -0.08457399, -0.21048389,\n",
       "         0.50593302, -0.26588456,  0.49499492,  0.13305666,  0.08885728,\n",
       "         0.30934111, -0.23764862,  0.09995606],\n",
       "       [ 0.46927644,  0.0751629 , -0.08734341,  0.17415461,  0.19056186,\n",
       "        -0.03992893, -0.51263168, -0.34863084,  0.29544167, -0.38390971,\n",
       "         0.17663631,  0.19366895,  0.10270409],\n",
       "       [ 0.45280381,  0.1085427 , -0.17194072,  0.14328242,  0.00848732,\n",
       "        -0.11676078, -0.20134869, -0.0058628 , -0.17441333,  0.28364843,\n",
       "        -0.50896919, -0.49208451, -0.25834029],\n",
       "       [-0.26575707, -0.11467956, -0.38269125, -0.42245888,  0.19458028,\n",
       "        -0.53245607, -0.42644696,  0.16781292, -0.18729753,  0.02644941,\n",
       "         0.15252908, -0.02706281, -0.01144972],\n",
       "       [ 0.28469472,  0.01508968, -0.01636541,  0.27978305,  0.3382999 ,\n",
       "        -0.33406273,  0.29387538,  0.16603675,  0.1024877 ,  0.47934882,\n",
       "         0.3523871 , -0.00255938,  0.36842492],\n",
       "       [-0.01765874, -0.48236626,  0.0322001 ,  0.15567829,  0.5062139 ,\n",
       "         0.20572637, -0.05273638, -0.00243953, -0.08792228,  0.20689235,\n",
       "        -0.06846489,  0.37413849, -0.49515011],\n",
       "       [ 0.22578123,  0.26396008, -0.11171038, -0.49394353, -0.09356517,\n",
       "        -0.03951704,  0.2076634 , -0.00172396,  0.52376144,  0.21852656,\n",
       "         0.10586401,  0.15638452, -0.46011105],\n",
       "       [ 0.35870944,  0.19081663, -0.0034401 ,  0.1238968 , -0.27879254,\n",
       "        -0.16058396,  0.07405103,  0.41425622, -0.48843031, -0.22067177,\n",
       "         0.14567117,  0.42246198, -0.2280255 ],\n",
       "       [ 0.31608088, -0.38058128,  0.15364776, -0.34637691, -0.15534155,\n",
       "        -0.03520866,  0.17662409, -0.52173544, -0.38598779,  0.04564932,\n",
       "         0.32081351, -0.1694319 , -0.01388079]])"
      ]
     },
     "execution_count": 29,
     "metadata": {},
     "output_type": "execute_result"
    }
   ],
   "source": [
    "eigen_vectors"
   ]
  },
  {
   "cell_type": "code",
   "execution_count": null,
   "metadata": {
    "collapsed": true
   },
   "outputs": [],
   "source": []
  }
 ],
 "metadata": {
  "kernelspec": {
   "display_name": "Python 2",
   "language": "python",
   "name": "python2"
  },
  "language_info": {
   "codemirror_mode": {
    "name": "ipython",
    "version": 2
   },
   "file_extension": ".py",
   "mimetype": "text/x-python",
   "name": "python",
   "nbconvert_exporter": "python",
   "pygments_lexer": "ipython2",
   "version": "2.7.11"
  }
 },
 "nbformat": 4,
 "nbformat_minor": 0
}
