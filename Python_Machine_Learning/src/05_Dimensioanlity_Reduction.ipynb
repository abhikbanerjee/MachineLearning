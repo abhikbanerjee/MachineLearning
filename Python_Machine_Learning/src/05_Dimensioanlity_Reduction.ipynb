{
 "cells": [
  {
   "cell_type": "markdown",
   "metadata": {},
   "source": [
    "# Data Compression - Dimensionality Reduction - SkLearn"
   ]
  },
  {
   "cell_type": "code",
   "execution_count": 31,
   "metadata": {
    "collapsed": false
   },
   "outputs": [],
   "source": [
    "import numpy as np\n",
    "import pandas as pd\n",
    "import matplotlib.pyplot as plt\n",
    "df_wine = pd.read_csv('/Users/tkmacl9/Desktop/Patents_Research_Papers_Personalization/All_Machine_Learning/wine_UCI.csv', header=None)\n",
    "df_wine.columns = ['Class label', 'Alcohol','Malic acid', 'Ash', \n",
    "                   'Alcalinity of ash', 'Magnesium', 'Total phenols', \n",
    "                   'Flavanoids','Nonflavanoid phenols', 'Proanthocyanins', \n",
    "                   'Color intensity', 'Hue', 'OD280/OD315 of diluted wines', 'Proline']"
   ]
  },
  {
   "cell_type": "markdown",
   "metadata": {},
   "source": [
    "### Doing the Steps in a PCA from scratch\n",
    "\n",
    "1. Transform the Data to StandardScaler - Mean 0\n",
    "2. Find the Covariance Matrix\n",
    "3. Find the Eigen Values and Eigen Vectors of the Covariance Matrix\n",
    "4. Select K eigen vectors corresponding to the k largest eigen values\n",
    "5. Costruct a k Projection matrix W from the top k eigen vectors\n",
    "6. Using the Projection Matrix W , transform the Training and the test data to obtain the k-dimensional feature subspace"
   ]
  },
  {
   "cell_type": "code",
   "execution_count": 11,
   "metadata": {
    "collapsed": true
   },
   "outputs": [],
   "source": [
    "from sklearn.cross_validation import train_test_split\n",
    "from sklearn.preprocessing import StandardScaler\n",
    "\n",
    "X, y = df_wine.iloc[:,1:].values, df_wine.iloc[:,0].values\n",
    "X_train, X_test, y_train, y_test = train_test_split(X,y,test_size=0.3, random_state=0)\n",
    "sc = StandardScaler()\n",
    "X_train_std = sc.fit_transform(X_train)\n",
    "X_test_std = sc.transform(X_test)\n"
   ]
  },
  {
   "cell_type": "code",
   "execution_count": 53,
   "metadata": {
    "collapsed": false
   },
   "outputs": [
    {
     "name": "stdout",
     "output_type": "stream",
     "text": [
      "Eigen Values  \n",
      " [ 4.5587553   2.65338926  1.33002158  1.12549719  0.7955333   0.55208871\n",
      "  0.43040117  0.25178108  0.21781015  0.17581265  0.15631419  0.11659798\n",
      "  0.1073023 ] \n",
      "\n",
      "Eigen Vectors  \n",
      " [[ 0.16886997 -0.467317    0.4016489  -0.08694502 -0.01138094 -0.41180617\n",
      "   0.12496363  0.30108147  0.31739672 -0.35361088 -0.26417715 -0.11252234\n",
      "  -0.00211917]\n",
      " [-0.21261403 -0.19813765  0.08483604  0.41235989 -0.57891822 -0.29726441\n",
      "  -0.26161843 -0.16286142  0.19537765  0.31703974  0.16626559  0.07669211\n",
      "  -0.21818773]\n",
      " [ 0.10688017 -0.32699677 -0.6238769  -0.00553525 -0.24003186 -0.01122774\n",
      "   0.24784658 -0.12364948  0.07155087  0.00952197 -0.37346795  0.34858183\n",
      "   0.30288686]\n",
      " [-0.11959163 -0.0649219  -0.43893358  0.32258864  0.08513528 -0.06861996\n",
      "   0.36011143 -0.03721172  0.07325493 -0.40841489  0.29944635 -0.38917874\n",
      "  -0.35838246]\n",
      " [ 0.20917585 -0.34175904 -0.16896007 -0.08457399 -0.21048389  0.50593302\n",
      "  -0.26588456  0.49499492  0.13305666  0.08885728  0.30934111 -0.23764862\n",
      "   0.09995606]\n",
      " [ 0.46927644  0.0751629  -0.08734341  0.17415461  0.19056186 -0.03992893\n",
      "  -0.51263168 -0.34863084  0.29544167 -0.38390971  0.17663631  0.19366895\n",
      "   0.10270409]\n",
      " [ 0.45280381  0.1085427  -0.17194072  0.14328242  0.00848732 -0.11676078\n",
      "  -0.20134869 -0.0058628  -0.17441333  0.28364843 -0.50896919 -0.49208451\n",
      "  -0.25834029]\n",
      " [-0.26575707 -0.11467956 -0.38269125 -0.42245888  0.19458028 -0.53245607\n",
      "  -0.42644696  0.16781292 -0.18729753  0.02644941  0.15252908 -0.02706281\n",
      "  -0.01144972]\n",
      " [ 0.28469472  0.01508968 -0.01636541  0.27978305  0.3382999  -0.33406273\n",
      "   0.29387538  0.16603675  0.1024877   0.47934882  0.3523871  -0.00255938\n",
      "   0.36842492]\n",
      " [-0.01765874 -0.48236626  0.0322001   0.15567829  0.5062139   0.20572637\n",
      "  -0.05273638 -0.00243953 -0.08792228  0.20689235 -0.06846489  0.37413849\n",
      "  -0.49515011]\n",
      " [ 0.22578123  0.26396008 -0.11171038 -0.49394353 -0.09356517 -0.03951704\n",
      "   0.2076634  -0.00172396  0.52376144  0.21852656  0.10586401  0.15638452\n",
      "  -0.46011105]\n",
      " [ 0.35870944  0.19081663 -0.0034401   0.1238968  -0.27879254 -0.16058396\n",
      "   0.07405103  0.41425622 -0.48843031 -0.22067177  0.14567117  0.42246198\n",
      "  -0.2280255 ]\n",
      " [ 0.31608088 -0.38058128  0.15364776 -0.34637691 -0.15534155 -0.03520866\n",
      "   0.17662409 -0.52173544 -0.38598779  0.04564932  0.32081351 -0.1694319\n",
      "  -0.01388079]] \n",
      "\n"
     ]
    }
   ],
   "source": [
    "# Find the Covariance matrix which is a 13 X 13 matrix, between the fatures of the wine data set\n",
    "# We then find the set of the Eigen values and the eigen vectors from the Covariance Matrix\n",
    "# using the linear algebra package in sklearn numpy\n",
    "cov_mat = np.cov(X_test_std.T)\n",
    "eigen_values, eigen_vectors = np.linalg.eig(cov_mat)\n",
    "print \"Eigen Values  \\n %s \\n\" % eigen_values\n",
    "print \"Eigen Vectors  \\n %s \\n\" % eigen_vectors"
   ]
  },
  {
   "cell_type": "code",
   "execution_count": 55,
   "metadata": {
    "collapsed": false
   },
   "outputs": [
    {
     "data": {
      "image/png": "[encoded data removed]",
      "text/plain": [
       "<matplotlib.figure.Figure at 0x11334b9d0>"
      ]
     },
     "metadata": {},
     "output_type": "display_data"
    }
   ],
   "source": [
    "# Plot the values of Eigen Values and the Cumulative sum of the Eigen Values in a plot\n",
    "import matplotlib.pyplot as plt\n",
    "%matplotlib inline\n",
    "total = sum(eigen_values)\n",
    "var_exp = [(i/total) for i in sorted(eigen_values, reverse=True)]\n",
    "# print eigen_values_perc\n",
    "cum_var_exp = np.cumsum(eigen_values_perc)\n",
    "# print eigen_values_cum_sum\n",
    "plt.bar(range(1,14), var_exp, alpha=0.5, align='center', label='Individual Explained Variance')\n",
    "plt.step(range(1,14), cum_var_exp, where='mid', label=\"Cumulative Explained Variance\")\n",
    "plt.ylabel('Explained Variance Ratio')\n",
    "plt.xlabel('Principal Components')\n",
    "plt.legend(loc='best')\n",
    "plt.show()"
   ]
  },
  {
   "cell_type": "code",
   "execution_count": 86,
   "metadata": {
    "collapsed": false
   },
   "outputs": [
    {
     "name": "stdout",
     "output_type": "stream",
     "text": [
      "[(4.5587552959294246, array([ 0.16886997, -0.21261403,  0.10688017, -0.11959163,  0.20917585,\n",
      "        0.46927644,  0.45280381, -0.26575707,  0.28469472, -0.01765874,\n",
      "        0.22578123,  0.35870944,  0.31608088])), (2.6533892610277543, array([-0.467317  , -0.19813765, -0.32699677, -0.0649219 , -0.34175904,\n",
      "        0.0751629 ,  0.1085427 , -0.11467956,  0.01508968, -0.48236626,\n",
      "        0.26396008,  0.19081663, -0.38058128])), (1.3300215750861755, array([ 0.4016489 ,  0.08483604, -0.6238769 , -0.43893358, -0.16896007,\n",
      "       -0.08734341, -0.17194072, -0.38269125, -0.01636541,  0.0322001 ,\n",
      "       -0.11171038, -0.0034401 ,  0.15364776])), (1.1254971940250904, array([-0.08694502,  0.41235989, -0.00553525,  0.32258864, -0.08457399,\n",
      "        0.17415461,  0.14328242, -0.42245888,  0.27978305,  0.15567829,\n",
      "       -0.49394353,  0.1238968 , -0.34637691])), (0.79553329981356835, array([-0.01138094, -0.57891822, -0.24003186,  0.08513528, -0.21048389,\n",
      "        0.19056186,  0.00848732,  0.19458028,  0.3382999 ,  0.5062139 ,\n",
      "       -0.09356517, -0.27879254, -0.15534155])), (0.55208871150740013, array([-0.41180617, -0.29726441, -0.01122774, -0.06861996,  0.50593302,\n",
      "       -0.03992893, -0.11676078, -0.53245607, -0.33406273,  0.20572637,\n",
      "       -0.03951704, -0.16058396, -0.03520866])), (0.43040117258493865, array([ 0.12496363, -0.26161843,  0.24784658,  0.36011143, -0.26588456,\n",
      "       -0.51263168, -0.20134869, -0.42644696,  0.29387538, -0.05273638,\n",
      "        0.2076634 ,  0.07405103,  0.17662409])), (0.25178107791091842, array([ 0.30108147, -0.16286142, -0.12364948, -0.03721172,  0.49499492,\n",
      "       -0.34863084, -0.0058628 ,  0.16781292,  0.16603675, -0.00243953,\n",
      "       -0.00172396,  0.41425622, -0.52173544])), (0.21781015301422421, array([ 0.31739672,  0.19537765,  0.07155087,  0.07325493,  0.13305666,\n",
      "        0.29544167, -0.17441333, -0.18729753,  0.1024877 , -0.08792228,\n",
      "        0.52376144, -0.48843031, -0.38598779])), (0.17581265237624377, array([-0.35361088,  0.31703974,  0.00952197, -0.40841489,  0.08885728,\n",
      "       -0.38390971,  0.28364843,  0.02644941,  0.47934882,  0.20689235,\n",
      "        0.21852656, -0.22067177,  0.04564932])), (0.15631418835924352, array([-0.26417715,  0.16626559, -0.37346795,  0.29944635,  0.30934111,\n",
      "        0.17663631, -0.50896919,  0.15252908,  0.3523871 , -0.06846489,\n",
      "        0.10586401,  0.14567117,  0.32081351])), (0.1165979822290109, array([-0.11252234,  0.07669211,  0.34858183, -0.38917874, -0.23764862,\n",
      "        0.19366895, -0.49208451, -0.02706281, -0.00255938,  0.37413849,\n",
      "        0.15638452,  0.42246198, -0.1694319 ])), (0.10730230002839888, array([-0.00211917, -0.21818773,  0.30288686, -0.35838246,  0.09995606,\n",
      "        0.10270409, -0.25834029, -0.01144972,  0.36842492, -0.49515011,\n",
      "       -0.46011105, -0.2280255 , -0.01388079]))]\n",
      "\n",
      "[ 0.16886997 -0.21261403  0.10688017 -0.11959163  0.20917585  0.46927644\n",
      "  0.45280381 -0.26575707  0.28469472 -0.01765874  0.22578123  0.35870944\n",
      "  0.31608088]\n",
      "\n",
      "[[ 0.16886997]\n",
      " [-0.21261403]\n",
      " [ 0.10688017]\n",
      " [-0.11959163]\n",
      " [ 0.20917585]\n",
      " [ 0.46927644]\n",
      " [ 0.45280381]\n",
      " [-0.26575707]\n",
      " [ 0.28469472]\n",
      " [-0.01765874]\n",
      " [ 0.22578123]\n",
      " [ 0.35870944]\n",
      " [ 0.31608088]]\n"
     ]
    }
   ],
   "source": [
    "# Feature Transformation - Compute the Projection Matrix and convert the train and test data and plot\n",
    "# the data points for PC1 and PC2 - principal Component 1 and Principal Component 2\n",
    "eigen_pairs = [(np.abs(eigen_values[i]), eigen_vectors[:,i]) for i in range(len(eigen_values))]\n",
    "eigen_pairs.sort(reverse=True)\n",
    "print eigen_pairs\n",
    "print ''\n",
    "#test the operations on eigen_pairs\n",
    "print eigen_pairs[0][1]\n",
    "print ''\n",
    "print eigen_pairs[0][1][:,np.newaxis] # Accesses the second element of the pair / tuple"
   ]
  },
  {
   "cell_type": "code",
   "execution_count": 87,
   "metadata": {
    "collapsed": false
   },
   "outputs": [
    {
     "name": "stdout",
     "output_type": "stream",
     "text": [
      "[[ 0.16886997 -0.467317  ]\n",
      " [-0.21261403 -0.19813765]\n",
      " [ 0.10688017 -0.32699677]\n",
      " [-0.11959163 -0.0649219 ]\n",
      " [ 0.20917585 -0.34175904]\n",
      " [ 0.46927644  0.0751629 ]\n",
      " [ 0.45280381  0.1085427 ]\n",
      " [-0.26575707 -0.11467956]\n",
      " [ 0.28469472  0.01508968]\n",
      " [-0.01765874 -0.48236626]\n",
      " [ 0.22578123  0.26396008]\n",
      " [ 0.35870944  0.19081663]\n",
      " [ 0.31608088 -0.38058128]]\n"
     ]
    }
   ],
   "source": [
    "# Accesses the second element of the pair / tuple for the first and second row, since the first and second row\n",
    "# are the ones with the highest Eigen values, and then transform them to a new axis.\n",
    "w = np.hstack((eigen_pairs[0][1][:, np.newaxis], eigen_pairs[1][1][:, np.newaxis])) \n",
    "print w"
   ]
  },
  {
   "cell_type": "code",
   "execution_count": 113,
   "metadata": {
    "collapsed": false
   },
   "outputs": [
    {
     "name": "stdout",
     "output_type": "stream",
     "text": [
      "(124, 2)\n",
      "\n",
      "(124,)\n"
     ]
    },
    {
     "data": {
      "image/png": "[encoded data removed]",
      "text/plain": [
       "<matplotlib.figure.Figure at 0x1149286d0>"
      ]
     },
     "metadata": {},
     "output_type": "display_data"
    }
   ],
   "source": [
    "# Transform the X_train_std with the W Projection matrix\n",
    "X_train_std[0].dot(w)\n",
    "X_train_pca = X_train_std.dot(w)\n",
    "print X_train_pca.shape\n",
    "print ''\n",
    "print y_train.shape\n",
    "# Visualize the points in 2 dimensional Principal Components\n",
    "colors = ['r', 'b', 'g']\n",
    "shapes = ['s', 'x', 'o']\n",
    "for l,c,m in zip(np.unique(y_train), colors, shapes):\n",
    "    # The X_train_pca[y_train==l,0] picks all the X_train_pca vectors for which the label is 1, 2 or 3 and scatter \n",
    "    # plots the first column of the X_train_pca with the second column of the X_train_pca\n",
    "    plt.scatter(X_train_pca[y_train==l,0], X_train_pca[y_train==l,1], color=c,label=l, marker=m)\n",
    "plt.xlabel('PC1')\n",
    "plt.ylabel('PC2')\n",
    "plt.legend(loc='best')\n",
    "plt.show()"
   ]
  },
  {
   "cell_type": "markdown",
   "metadata": {},
   "source": [
    "### Repeat all the Above Steps in Scikit Learn - using the PCA Transformer class"
   ]
  },
  {
   "cell_type": "code",
   "execution_count": 115,
   "metadata": {
    "collapsed": true
   },
   "outputs": [],
   "source": [
    "# Same Decision Boundary code used in previous Ipython Notebook\n",
    "\n",
    "from matplotlib.colors import ListedColormap\n",
    "def plot_decision_regions(X, y, classifier, resolution=0.02):\n",
    "\n",
    "    # setup marker generator and color map\n",
    "    markers = ('s', 'x', 'o', '^', 'v')\n",
    "    colors = ('red', 'blue', 'lightgreen', 'gray', 'cyan')\n",
    "    cmap = ListedColormap(colors[:len(np.unique(y))])\n",
    "\n",
    "    # plot the decision surface\n",
    "    x1_min, x1_max = X[:, 0].min() - 1, X[:, 0].max() + 1\n",
    "    x2_min, x2_max = X[:, 1].min() - 1, X[:, 1].max() + 1\n",
    "    xx1, xx2 = np.meshgrid(np.arange(x1_min, x1_max, resolution), np.arange(x2_min, x2_max, resolution))\n",
    "    Z = classifier.predict(np.array([xx1.ravel(), xx2.ravel()]).T)\n",
    "    Z = Z.reshape(xx1.shape)\n",
    "    plt.contourf(xx1, xx2, Z, alpha=0.4, cmap=cmap)\n",
    "    plt.xlim(xx1.min(), xx1.max())\n",
    "    plt.ylim(xx2.min(), xx2.max())\n",
    "\n",
    "    # plot class samples\n",
    "    for idx, cl in enumerate(np.unique(y)):\n",
    "        plt.scatter(x=X[y == cl, 0], y=X[y == cl, 1], alpha=0.8, c=cmap(idx), marker=markers[idx], label=cl)"
   ]
  },
  {
   "cell_type": "code",
   "execution_count": 122,
   "metadata": {
    "collapsed": false
   },
   "outputs": [
    {
     "data": {
      "image/png": "[encoded data removed]",
      "text/plain": [
       "<matplotlib.figure.Figure at 0x114977390>"
      ]
     },
     "metadata": {},
     "output_type": "display_data"
    }
   ],
   "source": [
    "from sklearn.linear_model import LogisticRegression\n",
    "from sklearn.decomposition import PCA\n",
    "\n",
    "pca = PCA(n_components=2)\n",
    "lr = LogisticRegression()\n",
    "X_train_pca_new = pca.fit_transform(X_train_std)\n",
    "X_test_pca = pca.transform(X_test_std)\n",
    "lr.fit(X_train_pca_new, y_train)\n",
    "plot_decision_regions(X_train_pca_new, y_train, classifier=lr)\n",
    "plt.xlabel('PC1')\n",
    "plt.ylabel('PC2')\n",
    "plt.legend(loc='best')\n",
    "plt.show()"
   ]
  },
  {
   "cell_type": "code",
   "execution_count": 123,
   "metadata": {
    "collapsed": false
   },
   "outputs": [
    {
     "data": {
      "image/png": "[encoded data removed]",
      "text/plain": [
       "<matplotlib.figure.Figure at 0x11482f190>"
      ]
     },
     "metadata": {},
     "output_type": "display_data"
    }
   ],
   "source": [
    "# Plot the Decision Boundary for the Test Data set\n",
    "plot_decision_regions(X_test_pca, y_test, classifier=lr)\n",
    "plt.xlabel('PC1')\n",
    "plt.ylabel('PC2')\n",
    "plt.legend(loc='best')\n",
    "plt.show()"
   ]
  },
  {
   "cell_type": "code",
   "execution_count": 130,
   "metadata": {
    "collapsed": false
   },
   "outputs": [
    {
     "name": "stdout",
     "output_type": "stream",
     "text": [
      "[ 0.37329648  0.18818926  0.10896791  0.07724389  0.06478595  0.04592014\n",
      "  0.03986936  0.02521914  0.02258181  0.01830924  0.01635336  0.01284271\n",
      "  0.00642076]\n",
      "\n",
      "[ 4.8528542   2.44646039  1.41658279  1.00417063  0.8422173   0.5969618\n",
      "  0.51830163  0.32784885  0.29356349  0.23802018  0.21259371  0.16695518\n",
      "  0.08346984]\n"
     ]
    }
   ],
   "source": [
    "# We can get the explained variance ratio by setting the n_components to none\n",
    "pca = PCA(n_components=None)\n",
    "X_train_pca_ab = pca.fit_transform(X_train_std)\n",
    "print pca.explained_variance_ratio_\n",
    "print ''\n",
    "print pca.explained_variance_"
   ]
  },
  {
   "cell_type": "markdown",
   "metadata": {},
   "source": [
    "### LDA - Linear Discriminant Analysis - From Scratch"
   ]
  },
  {
   "cell_type": "code",
   "execution_count": 134,
   "metadata": {
    "collapsed": false
   },
   "outputs": [
    {
     "name": "stdout",
     "output_type": "stream",
     "text": [
      "1\n",
      "2\n",
      "3\n"
     ]
    }
   ],
   "source": [
    "# Linear Discriminant Analysis\n"
   ]
  },
  {
   "cell_type": "markdown",
   "metadata": {},
   "source": [
    "### LDA - Linear Discriminant Analysis Scikit Learn Class"
   ]
  },
  {
   "cell_type": "code",
   "execution_count": 145,
   "metadata": {
    "collapsed": false
   },
   "outputs": [
    {
     "data": {
      "image/png": "[encoded data removed]",
      "text/plain": [
       "<matplotlib.figure.Figure at 0x1137fbc90>"
      ]
     },
     "metadata": {},
     "output_type": "display_data"
    }
   ],
   "source": [
    "from sklearn.linear_model import LogisticRegression\n",
    "from sklearn.lda import LDA\n",
    "\n",
    "lda = LDA(n_components=2)\n",
    "X_train_lda = lda.fit_transform(X_train_std, y_train)\n",
    "X_test_lda = lda.transform(X_test_std)\n",
    "lr = LogisticRegression()\n",
    "lr.fit(X_train_lda, y_train)\n",
    "plot_decision_regions(X_train_lda, y_train, classifier=lr)\n",
    "plt.xlabel('LD 1')\n",
    "plt.ylabel('LD 2')\n",
    "plt.legend(loc='upper left')\n",
    "plt.show()"
   ]
  },
  {
   "cell_type": "code",
   "execution_count": 146,
   "metadata": {
    "collapsed": false
   },
   "outputs": [
    {
     "data": {
      "image/png": "[encoded data removed]",
      "text/plain": [
       "<matplotlib.figure.Figure at 0x114b33910>"
      ]
     },
     "metadata": {},
     "output_type": "display_data"
    }
   ],
   "source": [
    "plot_decision_regions(X_test_lda, y_test,classifier=lr)\n",
    "plt.xlabel('LD 1')\n",
    "plt.ylabel('LD 2')\n",
    "plt.legend(loc='upper left')\n",
    "plt.show()"
   ]
  },
  {
   "cell_type": "markdown",
   "metadata": {},
   "source": [
    "### using Kernel PCA for Non-Linear Mappings"
   ]
  },
  {
   "cell_type": "code",
   "execution_count": null,
   "metadata": {
    "collapsed": true
   },
   "outputs": [],
   "source": []
  }
 ],
 "metadata": {
  "kernelspec": {
   "display_name": "Python 2",
   "language": "python",
   "name": "python2"
  },
  "language_info": {
   "codemirror_mode": {
    "name": "ipython",
    "version": 2
   },
   "file_extension": ".py",
   "mimetype": "text/x-python",
   "name": "python",
   "nbconvert_exporter": "python",
   "pygments_lexer": "ipython2",
   "version": "2.7.11"
  }
 },
 "nbformat": 4,
 "nbformat_minor": 0
}
