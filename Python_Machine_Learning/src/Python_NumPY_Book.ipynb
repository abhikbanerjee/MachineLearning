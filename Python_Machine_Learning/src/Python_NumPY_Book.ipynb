{
 "cells": [
  {
   "cell_type": "code",
   "execution_count": 1,
   "metadata": {
    "collapsed": true
   },
   "outputs": [],
   "source": [
    "%matplotlib inline"
   ]
  },
  {
   "cell_type": "code",
   "execution_count": 2,
   "metadata": {
    "collapsed": true
   },
   "outputs": [],
   "source": [
    "import numpy as np\n",
    "import scipy as sp\n",
    "import sklearn as sk"
   ]
  },
  {
   "cell_type": "code",
   "execution_count": 3,
   "metadata": {
    "collapsed": false
   },
   "outputs": [
    {
     "name": "stdout",
     "output_type": "stream",
     "text": [
      "Largest one we saw: 11.6363823356\n",
      "0.590433835983\n"
     ]
    }
   ],
   "source": [
    "import numpy as np\n",
    "import time\n",
    "from numpy.linalg import eigvals\n",
    "results = []\n",
    "def run_experiment(niter=100): \n",
    "    K = 100\n",
    "    for _ in xrange(niter):\n",
    "        mat = np.random.randn(K, K)\n",
    "        max_eigenvalue = np.abs(eigvals(mat)).max() \n",
    "        results.append(max_eigenvalue)\n",
    "    return results\n",
    "start = time.time()\n",
    "some_results = run_experiment()\n",
    "print 'Largest one we saw: %s' % np.max(some_results)\n",
    "print (time.time() - start)"
   ]
  },
  {
   "cell_type": "code",
   "execution_count": 18,
   "metadata": {
    "collapsed": false
   },
   "outputs": [
    {
     "name": "stdout",
     "output_type": "stream",
     "text": [
      "Largest one we saw: 10.8813511717\n",
      "         11765 function calls (11644 primitive calls) in 0.072 seconds\n",
      "\n",
      "   Ordered by: cumulative time\n",
      "\n",
      "   ncalls  tottime  percall  cumtime  percall filename:lineno(function)\n",
      "        3    0.021    0.007    0.089    0.030 __init__.py:1(<module>)\n",
      "        1    0.000    0.000    0.072    0.072 cprof_example.py:1(<module>)\n",
      "        1    0.002    0.002    0.065    0.065 __init__.py:106(<module>)\n",
      "        1    0.000    0.000    0.049    0.049 add_newdocs.py:10(<module>)\n",
      "        1    0.000    0.000    0.041    0.041 type_check.py:3(<module>)\n",
      "        1    0.000    0.000    0.015    0.015 __init__.py:7(<module>)\n",
      "        1    0.000    0.000    0.008    0.008 decorators.py:15(<module>)\n",
      "        1    0.002    0.002    0.008    0.008 utils.py:4(<module>)\n",
      "        2    0.001    0.001    0.007    0.003 __init__.py:45(<module>)\n",
      "        1    0.006    0.006    0.007    0.007 __init__.py:88(<module>)\n",
      "        1    0.000    0.000    0.006    0.006 cprof_example.py:5(run_experiment)\n",
      "        1    0.006    0.006    0.006    0.006 linalg.py:832(eigvals)\n",
      "        1    0.001    0.001    0.005    0.005 tempfile.py:18(<module>)\n",
      "        1    0.001    0.001    0.005    0.005 _internal.py:6(<module>)\n",
      "        1    0.001    0.001    0.004    0.004 __init__.py:41(<module>)\n",
      "        1    0.001    0.001    0.003    0.003 random.py:40(<module>)\n",
      "        1    0.001    0.001    0.003    0.003 numeric.py:1(<module>)\n",
      "        1    0.001    0.001    0.003    0.003 case.py:1(<module>)\n",
      "       17    0.000    0.000    0.003    0.000 re.py:192(compile)\n",
      "       17    0.000    0.000    0.003    0.000 re.py:230(_compile)\n",
      "        1    0.001    0.001    0.003    0.003 __init__.py:15(<module>)\n",
      "       13    0.000    0.000    0.002    0.000 sre_compile.py:567(compile)\n",
      "        1    0.000    0.000    0.002    0.002 core.py:21(<module>)\n",
      "        1    0.002    0.002    0.002    0.002 hashlib.py:56(<module>)\n",
      "        1    0.001    0.001    0.002    0.002 index_tricks.py:1(<module>)\n",
      "        1    0.000    0.000    0.002    0.002 numerictypes.py:82(<module>)\n",
      "        1    0.001    0.001    0.001    0.001 __init__.py:4(<module>)\n",
      "       13    0.000    0.000    0.001    0.000 sre_parse.py:706(parse)\n",
      "        1    0.000    0.000    0.001    0.001 difflib.py:27(<module>)\n",
      "      273    0.000    0.000    0.001    0.000 function_base.py:3944(add_newdoc)\n",
      "        1    0.000    0.000    0.001    0.001 polynomial.py:4(<module>)\n",
      "        1    0.001    0.001    0.001    0.001 npyio.py:1(<module>)\n",
      "        2    0.001    0.000    0.001    0.001 collections.py:293(namedtuple)\n",
      "        1    0.001    0.001    0.001    0.001 collections.py:1(<module>)\n",
      "    19/13    0.000    0.000    0.001    0.000 sre_parse.py:317(_parse_sub)\n",
      "        1    0.000    0.000    0.001    0.001 main.py:1(<module>)\n",
      "    19/13    0.000    0.000    0.001    0.000 sre_parse.py:395(_parse)\n",
      "        1    0.001    0.001    0.001    0.001 runner.py:1(<module>)\n",
      "       13    0.000    0.000    0.001    0.000 sre_compile.py:552(_code)\n",
      "        1    0.000    0.000    0.001    0.001 random.py:91(__init__)\n",
      "        1    0.000    0.000    0.001    0.001 result.py:1(<module>)\n",
      "        1    0.000    0.000    0.001    0.001 random.py:100(seed)\n",
      "       16    0.000    0.000    0.001    0.000 abc.py:86(__new__)\n",
      "        5    0.000    0.000    0.001    0.000 warnings.py:67(filterwarnings)\n",
      "        1    0.001    0.001    0.001    0.001 io.py:34(<module>)\n",
      "        1    0.001    0.001    0.001    0.001 {function seed at 0x101d5eb90}\n",
      "    40/13    0.000    0.000    0.001    0.000 sre_compile.py:64(_compile)\n",
      "        1    0.001    0.001    0.001    0.001 core.py:2311(_MaskedPrintOption)\n",
      "        1    0.000    0.000    0.001    0.001 polynomial.py:55(<module>)\n",
      "        1    0.000    0.000    0.001    0.001 __init__.py:3(<module>)\n",
      "      274    0.000    0.000    0.001    0.000 {__import__}\n",
      "       40    0.000    0.000    0.001    0.000 core.py:108(get_object_signature)\n",
      "        1    0.000    0.000    0.001    0.001 linalg.py:10(<module>)\n",
      "        1    0.000    0.000    0.001    0.001 numbers.py:6(<module>)\n",
      "        1    0.001    0.001    0.001    0.001 heapq.py:31(<module>)\n",
      "       23    0.000    0.000    0.001    0.000 core.py:6343(__init__)\n",
      "        1    0.000    0.000    0.000    0.000 arrayprint.py:5(<module>)\n",
      "       23    0.000    0.000    0.000    0.000 core.py:6348(getdoc)\n",
      "        1    0.000    0.000    0.000    0.000 threading.py:1(<module>)\n",
      "        1    0.000    0.000    0.000    0.000 util.py:1(<module>)\n",
      "        1    0.000    0.000    0.000    0.000 loader.py:1(<module>)\n",
      "     1314    0.000    0.000    0.000    0.000 {getattr}\n",
      "        1    0.000    0.000    0.000    0.000 {method 'randn' of 'mtrand.RandomState' objects}\n",
      "        1    0.000    0.000    0.000    0.000 utils.py:1(<module>)\n",
      "        2    0.000    0.000    0.000    0.000 function_base.py:1(<module>)\n",
      "      270    0.000    0.000    0.000    0.000 sre_parse.py:212(get)\n",
      "       15    0.000    0.000    0.000    0.000 abc.py:105(register)\n",
      "        1    0.000    0.000    0.000    0.000 shutil.py:5(<module>)\n",
      "    93/65    0.000    0.000    0.000    0.000 {issubclass}\n",
      "       13    0.000    0.000    0.000    0.000 sre_compile.py:433(_compile_info)\n",
      "      314    0.000    0.000    0.000    0.000 sre_parse.py:193(__next)\n",
      "       17    0.000    0.000    0.000    0.000 {built-in method __new__ of type object at 0x100186920}\n",
      "    20/15    0.000    0.000    0.000    0.000 abc.py:148(__subclasscheck__)\n",
      "        1    0.000    0.000    0.000    0.000 extras.py:10(<module>)\n",
      "       15    0.000    0.000    0.000    0.000 sre_compile.py:228(_compile_charset)\n",
      "       35    0.000    0.000    0.000    0.000 _inspect.py:142(formatargspec)\n",
      "        1    0.000    0.000    0.000    0.000 defmatrix.py:1(<module>)\n",
      "        1    0.000    0.000    0.000    0.000 py3k.py:71(sixu)\n",
      "        1    0.000    0.000    0.000    0.000 __init__.py:71(search_function)\n",
      "        1    0.000    0.000    0.000    0.000 _iotools.py:3(<module>)\n",
      "        1    0.000    0.000    0.000    0.000 numerictypes.py:301(_add_aliases)\n",
      "       40    0.000    0.000    0.000    0.000 _inspect.py:98(getargspec)\n",
      "       15    0.000    0.000    0.000    0.000 sre_compile.py:256(_optimize_charset)\n",
      "        1    0.000    0.000    0.000    0.000 __init__.py:10(<module>)\n",
      "       19    0.000    0.000    0.000    0.000 nosetester.py:511(_numpy_tester)\n",
      "        1    0.000    0.000    0.000    0.000 {posix.urandom}\n",
      "       72    0.000    0.000    0.000    0.000 abc.py:89(<genexpr>)\n",
      "    61/34    0.000    0.000    0.000    0.000 sre_parse.py:151(getwidth)\n",
      "      271    0.000    0.000    0.000    0.000 {method 'strip' of 'str' objects}\n",
      "        1    0.000    0.000    0.000    0.000 fftpack.py:32(<module>)\n",
      "        1    0.000    0.000    0.000    0.000 hermite_e.py:59(<module>)\n",
      "        1    0.000    0.000    0.000    0.000 ctypeslib.py:51(<module>)\n",
      "        3    0.000    0.000    0.000    0.000 numeric.py:365(extend_all)\n",
      "      965    0.000    0.000    0.000    0.000 {isinstance}\n",
      "       19    0.000    0.000    0.000    0.000 nosetester.py:170(__init__)\n",
      "       40    0.000    0.000    0.000    0.000 {numpy.core.multiarray.array}\n",
      "     1402    0.000    0.000    0.000    0.000 {method 'append' of 'list' objects}\n",
      "        1    0.000    0.000    0.000    0.000 polyutils.py:45(<module>)\n",
      "        1    0.000    0.000    0.000    0.000 fromnumeric.py:3(<module>)\n",
      "       35    0.000    0.000    0.000    0.000 _inspect.py:67(getargs)\n",
      "        1    0.000    0.000    0.000    0.000 _polybase.py:8(<module>)\n",
      "        1    0.000    0.000    0.000    0.000 numerictypes.py:957(_register_types)\n",
      "        1    0.000    0.000    0.000    0.000 _import_tools.py:1(<module>)\n",
      "        1    0.000    0.000    0.000    0.000 numbers.py:34(Complex)\n",
      "        9    0.000    0.000    0.000    0.000 extras.py:231(__init__)\n",
      "      145    0.000    0.000    0.000    0.000 sre_parse.py:141(__getitem__)\n",
      "        1    0.000    0.000    0.000    0.000 hermite.py:59(<module>)\n",
      "        1    0.000    0.000    0.000    0.000 core.py:2642(MaskedArray)\n",
      "       26    0.000    0.000    0.000    0.000 numerictypes.py:229(bitname)\n",
      "        9    0.000    0.000    0.000    0.000 extras.py:235(getdoc)\n",
      "        1    0.000    0.000    0.000    0.000 scimath.py:17(<module>)\n",
      "        1    0.000    0.000    0.000    0.000 getlimits.py:3(<module>)\n",
      "       43    0.000    0.000    0.000    0.000 _weakrefset.py:58(__iter__)\n",
      "        1    0.000    0.000    0.000    0.000 laguerre.py:59(<module>)\n",
      "        1    0.000    0.000    0.000    0.000 legendre.py:83(<module>)\n",
      "       58    0.000    0.000    0.000    0.000 {method 'join' of 'str' objects}\n",
      "       64    0.000    0.000    0.000    0.000 _weakrefset.py:36(__init__)\n",
      "1033/1011    0.000    0.000    0.000    0.000 {len}\n",
      "        1    0.000    0.000    0.000    0.000 chebyshev.py:87(<module>)\n",
      "       27    0.000    0.000    0.000    0.000 core.py:863(__init__)\n",
      "        1    0.000    0.000    0.000    0.000 linalg.py:214(_assertFinite)\n",
      "        1    0.000    0.000    0.000    0.000 __init__.py:265(_reset_cache)\n",
      "        8    0.000    0.000    0.000    0.000 core.py:7792(__init__)\n",
      "        1    0.000    0.000    0.000    0.000 defchararray.py:17(<module>)\n",
      "      137    0.000    0.000    0.000    0.000 sre_parse.py:149(append)\n",
      "        1    0.000    0.000    0.000    0.000 records.py:36(<module>)\n",
      "        1    0.000    0.000    0.000    0.000 <string>:1(<module>)\n",
      "        1    0.000    0.000    0.000    0.000 _datasource.py:35(<module>)\n",
      "        8    0.000    0.000    0.000    0.000 core.py:7797(getdoc)\n",
      "        1    0.000    0.000    0.000    0.000 suite.py:1(<module>)\n",
      "      512    0.000    0.000    0.000    0.000 {chr}\n",
      "        3    0.000    0.000    0.000    0.000 __init__.py:78(CFUNCTYPE)\n",
      "        1    0.000    0.000    0.000    0.000 getlimits.py:195(iinfo)\n",
      "        1    0.000    0.000    0.000    0.000 signals.py:1(<module>)\n",
      "       19    0.000    0.000    0.000    0.000 posixpath.py:120(dirname)\n",
      "      271    0.000    0.000    0.000    0.000 {numpy.core.multiarray.add_docstring}\n",
      "       49    0.000    0.000    0.000    0.000 abc.py:15(abstractmethod)\n",
      "        2    0.000    0.000    0.000    0.000 {method 'all' of 'numpy.ndarray' objects}\n",
      "        4    0.000    0.000    0.000    0.000 {method 'reduce' of 'numpy.ufunc' objects}\n",
      "      115    0.000    0.000    0.000    0.000 sre_parse.py:206(match)\n",
      "        1    0.000    0.000    0.000    0.000 _endian.py:4(<module>)\n",
      "        1    0.000    0.000    0.000    0.000 numerictypes.py:451(_set_array_types)\n",
      "        1    0.000    0.000    0.000    0.000 numerictypes.py:285(_add_types)\n",
      "        1    0.000    0.000    0.000    0.000 contextlib.py:1(<module>)\n",
      "        5    0.000    0.000    0.000    0.000 {map}\n",
      "        1    0.000    0.000    0.000    0.000 machar.py:7(<module>)\n",
      "        1    0.000    0.000    0.000    0.000 threading.py:1081(__init__)\n",
      "        2    0.000    0.000    0.000    0.000 os.py:496(__delitem__)\n",
      "        2    0.000    0.000    0.000    0.000 _methods.py:40(_all)\n",
      "       14    0.000    0.000    0.000    0.000 __init__.py:147(_check_size)\n",
      "        8    0.000    0.000    0.000    0.000 {all}\n",
      "       79    0.000    0.000    0.000    0.000 _inspect.py:133(strseq)\n",
      "       16    0.000    0.000    0.000    0.000 {method 'format' of 'str' objects}\n",
      "       18    0.000    0.000    0.000    0.000 core.py:941(__init__)\n",
      "        1    0.000    0.000    0.000    0.000 unicode_escape.py:8(<module>)\n",
      "        8    0.000    0.000    0.000    0.000 functools.py:17(update_wrapper)\n",
      "        3    0.000    0.000    0.000    0.000 __init__.py:493(PYFUNCTYPE)\n",
      "        5    0.000    0.000    0.000    0.000 contextlib.py:54(contextmanager)\n",
      "       13    0.000    0.000    0.000    0.000 sre_parse.py:189(__init__)\n",
      "      117    0.000    0.000    0.000    0.000 {method 'add' of 'set' objects}\n",
      "        1    0.000    0.000    0.000    0.000 numerictypes.py:781(_construct_lookups)\n",
      "       21    0.000    0.000    0.000    0.000 sre_compile.py:428(_simple)\n",
      "        1    0.000    0.000    0.000    0.000 numerictypes.py:338(_add_integer_aliases)\n",
      "        3    0.000    0.000    0.000    0.000 utils.py:117(deprecate)\n",
      "        1    0.000    0.000    0.000    0.000 linalg.py:76(_determine_error_states)\n",
      "       12    0.000    0.000    0.000    0.000 ctypeslib.py:330(prep_simple)\n",
      "        2    0.000    0.000    0.000    0.000 {_ctypes.POINTER}\n",
      "        1    0.000    0.000    0.000    0.000 nosetester.py:6(<module>)\n",
      "       21    0.000    0.000    0.000    0.000 numerictypes.py:216(_evalname)\n",
      "      154    0.000    0.000    0.000    0.000 {_sre.getlower}\n",
      "        1    0.000    0.000    0.000    0.000 polynomial.py:1517(Polynomial)\n",
      "        3    0.000    0.000    0.000    0.000 utils.py:73(__call__)\n",
      "       30    0.000    0.000    0.000    0.000 numerictypes.py:443(_add_array_type)\n",
      "       46    0.000    0.000    0.000    0.000 collections.py:337(<genexpr>)\n",
      "       21    0.000    0.000    0.000    0.000 {numpy.core.multiarray.empty}\n",
      "        1    0.000    0.000    0.000    0.000 twodim_base.py:3(<module>)\n",
      "        1    0.000    0.000    0.000    0.000 result.py:26(TestResult)\n",
      "       20    0.000    0.000    0.000    0.000 _weakrefset.py:26(__exit__)\n",
      "       66    0.000    0.000    0.000    0.000 sre_compile.py:101(fixup)\n",
      "       40    0.000    0.000    0.000    0.000 _inspect.py:15(ismethod)\n",
      "        1    0.000    0.000    0.000    0.000 threading.py:647(__init__)\n",
      "       85    0.000    0.000    0.000    0.000 sre_parse.py:137(__len__)\n",
      "        1    0.000    0.000    0.000    0.000 _iotools.py:473(StringConverter)\n",
      "        1    0.000    0.000    0.000    0.000 memmap.py:1(<module>)\n",
      "       87    0.000    0.000    0.000    0.000 {range}\n",
      "       72    0.000    0.000    0.000    0.000 numerictypes.py:127(english_lower)\n",
      "        1    0.000    0.000    0.000    0.000 arrayterator.py:9(<module>)\n",
      "        4    0.000    0.000    0.000    0.000 sre_compile.py:411(_mk_bitmap)\n",
      "        1    0.000    0.000    0.000    0.000 stride_tricks.py:7(<module>)\n",
      "      346    0.000    0.000    0.000    0.000 {globals}\n",
      "        1    0.000    0.000    0.000    0.000 __init__.py:349(__init__)\n",
      "        3    0.000    0.000    0.000    0.000 result.py:14(failfast)\n",
      "       81    0.000    0.000    0.000    0.000 {min}\n",
      "       35    0.000    0.000    0.000    0.000 _weakrefset.py:83(add)\n",
      "        9    0.000    0.000    0.000    0.000 core.py:2480(_arraymethod)\n",
      "        5    0.000    0.000    0.000    0.000 getlimits.py:245(__init__)\n",
      "        2    0.000    0.000    0.000    0.000 shape_base.py:1(<module>)\n",
      "        6    0.000    0.000    0.000    0.000 core.py:1099(__init__)\n",
      "        1    0.000    0.000    0.000    0.000 defchararray.py:1669(chararray)\n",
      "       44    0.000    0.000    0.000    0.000 _inspect.py:146(<lambda>)\n",
      "       26    0.000    0.000    0.000    0.000 sre_compile.py:546(isstring)\n",
      "      125    0.000    0.000    0.000    0.000 {method 'startswith' of 'str' objects}\n",
      "        1    0.000    0.000    0.000    0.000 _polybase.py:19(ABCPolyBase)\n",
      "       11    0.000    0.000    0.000    0.000 sre_parse.py:268(_escape)\n",
      "        8    0.000    0.000    0.000    0.000 collections.py:363(<genexpr>)\n",
      "        1    0.000    0.000    0.000    0.000 case.py:131(TestCase)\n",
      "        1    0.000    0.000    0.000    0.000 numerictypes.py:428(_construct_char_code_lookup)\n",
      "       40    0.000    0.000    0.000    0.000 sre_parse.py:92(__init__)\n",
      "       20    0.000    0.000    0.000    0.000 _weakrefset.py:20(__enter__)\n",
      "        1    0.000    0.000    0.000    0.000 format.py:149(<module>)\n",
      "       13    0.000    0.000    0.000    0.000 {_sre.compile}\n",
      "      148    0.000    0.000    0.000    0.000 {ord}\n",
      "        1    0.000    0.000    0.000    0.000 hermite.py:1815(Hermite)\n",
      "       31    0.000    0.000    0.000    0.000 {method 'items' of 'dict' objects}\n",
      "        1    0.000    0.000    0.000    0.000 threading.py:542(Event)\n",
      "       18    0.000    0.000    0.000    0.000 {_struct.calcsize}\n",
      "       49    0.000    0.000    0.000    0.000 {method 'find' of 'bytearray' objects}\n",
      "        8    0.000    0.000    0.000    0.000 collections.py:361(<genexpr>)\n",
      "        2    0.000    0.000    0.000    0.000 numeric.py:2576(seterr)\n",
      "        2    0.000    0.000    0.000    0.000 threading.py:242(Condition)\n",
      "        1    0.000    0.000    0.000    0.000 fromnumeric.py:2180(amax)\n",
      "       35    0.000    0.000    0.000    0.000 _inspect.py:43(iscode)\n",
      "        1    0.000    0.000    0.000    0.000 __future__.py:48(<module>)\n",
      "        1    0.000    0.000    0.000    0.000 threading.py:576(set)\n",
      "        1    0.000    0.000    0.000    0.000 {method 'max' of 'numpy.ndarray' objects}\n",
      "        4    0.000    0.000    0.000    0.000 sre_parse.py:227(isname)\n",
      "        1    0.000    0.000    0.000    0.000 threading.py:561(__init__)\n",
      "       40    0.000    0.000    0.000    0.000 _inspect.py:28(isfunction)\n",
      "       13    0.000    0.000    0.000    0.000 sre_parse.py:67(__init__)\n",
      "        1    0.000    0.000    0.000    0.000 _methods.py:5(<module>)\n",
      "        1    0.000    0.000    0.000    0.000 fromnumeric.py:1973(all)\n",
      "        1    0.000    0.000    0.000    0.000 <string>:1(Match)\n",
      "        1    0.000    0.000    0.000    0.000 numeric.py:2967(__enter__)\n",
      "        2    0.000    0.000    0.000    0.000 _methods.py:25(_amax)\n",
      "        1    0.000    0.000    0.000    0.000 pprint.py:35(<module>)\n",
      "       24    0.000    0.000    0.000    0.000 _weakrefset.py:70(__contains__)\n",
      "       19    0.000    0.000    0.000    0.000 {method 'rfind' of 'str' objects}\n",
      "        1    0.000    0.000    0.000    0.000 numerictypes.py:379(_set_up_aliases)\n",
      "        6    0.000    0.000    0.000    0.000 hashlib.py:100(__get_openssl_constructor)\n",
      "       40    0.000    0.000    0.000    0.000 numerictypes.py:154(english_upper)\n",
      "        1    0.000    0.000    0.000    0.000 threading.py:631(Thread)\n",
      "       14    0.000    0.000    0.000    0.000 numerictypes.py:181(english_capitalize)\n",
      "        2    0.000    0.000    0.000    0.000 threading.py:260(__init__)\n",
      "        1    0.000    0.000    0.000    0.000 <string>:1(Mismatch)\n",
      "       46    0.000    0.000    0.000    0.000 {repr}\n",
      "        1    0.000    0.000    0.000    0.000 core.py:6105(__new__)\n",
      "        1    0.000    0.000    0.000    0.000 nanfunctions.py:19(<module>)\n",
      "        5    0.000    0.000    0.000    0.000 sre_parse.py:74(opengroup)\n",
      "      117    0.000    0.000    0.000    0.000 {method 'translate' of 'str' objects}\n",
      "        1    0.000    0.000    0.000    0.000 core.py:6098(MaskedConstant)\n",
      "        1    0.000    0.000    0.000    0.000 random.py:72(Random)\n",
      "       15    0.000    0.000    0.000    0.000 {method 'update' of 'dict' objects}\n",
      "        1    0.000    0.000    0.000    0.000 {posix.uname}\n",
      "       17    0.000    0.000    0.000    0.000 {method 'keys' of 'dict' objects}\n",
      "        1    0.000    0.000    0.000    0.000 numeric.py:2978(_setdef)\n",
      "       21    0.000    0.000    0.000    0.000 {sys._getframe}\n",
      "        2    0.000    0.000    0.000    0.000 os.py:472(__setitem__)\n",
      "        3    0.000    0.000    0.000    0.000 {numpy.core.umath.seterrobj}\n",
      "        1    0.000    0.000    0.000    0.000 numbers.py:295(Integral)\n",
      "        1    0.000    0.000    0.000    0.000 _version.py:7(<module>)\n",
      "        1    0.000    0.000    0.000    0.000 linalg.py:139(_commonType)\n",
      "       65    0.000    0.000    0.000    0.000 {method 'get' of 'dict' objects}\n",
      "        1    0.000    0.000    0.000    0.000 numbers.py:169(Real)\n",
      "        1    0.000    0.000    0.000    0.000 _inspect.py:7(<module>)\n",
      "        1    0.000    0.000    0.000    0.000 py3k.py:4(<module>)\n",
      "        1    0.000    0.000    0.000    0.000 unicode_escape.py:36(getregentry)\n",
      "       27    0.000    0.000    0.000    0.000 {hasattr}\n",
      "        1    0.000    0.000    0.000    0.000 helper.py:4(<module>)\n",
      "        1    0.000    0.000    0.000    0.000 __init__.py:49(normalize_encoding)\n",
      "        1    0.000    0.000    0.000    0.000 hermite_e.py:1812(HermiteE)\n",
      "       21    0.000    0.000    0.000    0.000 {method 'extend' of 'list' objects}\n",
      "        1    0.000    0.000    0.000    0.000 StringIO.py:30(<module>)\n",
      "        3    0.000    0.000    0.000    0.000 index_tricks.py:242(__init__)\n",
      "        1    0.000    0.000    0.000    0.000 financial.py:10(<module>)\n",
      "        1    0.000    0.000    0.000    0.000 polynomial.py:940(poly1d)\n",
      "        1    0.000    0.000    0.000    0.000 tempfile.py:518(SpooledTemporaryFile)\n",
      "        1    0.000    0.000    0.000    0.000 core.py:5896(mvoid)\n",
      "        1    0.000    0.000    0.000    0.000 extras.py:1435(__init__)\n",
      "       20    0.000    0.000    0.000    0.000 _weakrefset.py:52(_commit_removals)\n",
      "        1    0.000    0.000    0.000    0.000 difflib.py:44(SequenceMatcher)\n",
      "        1    0.000    0.000    0.000    0.000 defmatrix.py:208(matrix)\n",
      "       20    0.000    0.000    0.000    0.000 {method 'rstrip' of 'str' objects}\n",
      "       50    0.000    0.000    0.000    0.000 {_ctypes.sizeof}\n",
      "        2    0.000    0.000    0.000    0.000 {math.log}\n",
      "        5    0.000    0.000    0.000    0.000 {method 'replace' of 'str' objects}\n",
      "        1    0.000    0.000    0.000    0.000 collections.py:26(OrderedDict)\n",
      "        1    0.000    0.000    0.000    0.000 {binascii.hexlify}\n",
      "        1    0.000    0.000    0.000    0.000 _iotools.py:250(NameValidator)\n",
      "       24    0.000    0.000    0.000    0.000 {setattr}\n",
      "        1    0.000    0.000    0.000    0.000 extras.py:1365(__init__)\n",
      "        1    0.000    0.000    0.000    0.000 arraypad.py:5(<module>)\n",
      "        8    0.000    0.000    0.000    0.000 functools.py:39(wraps)\n",
      "        4    0.000    0.000    0.000    0.000 core.py:89(doc_note)\n",
      "        1    0.000    0.000    0.000    0.000 threading.py:400(notifyAll)\n",
      "        1    0.000    0.000    0.000    0.000 ufunclike.py:5(<module>)\n",
      "        1    0.000    0.000    0.000    0.000 numeric.py:2972(__exit__)\n",
      "        2    0.000    0.000    0.000    0.000 {posix.putenv}\n",
      "       20    0.000    0.000    0.000    0.000 {method '__subclasses__' of 'type' objects}\n",
      "        1    0.000    0.000    0.000    0.000 chebyshev.py:2041(Chebyshev)\n",
      "        1    0.000    0.000    0.000    0.000 info.py:86(<module>)\n",
      "        2    0.000    0.000    0.000    0.000 numeric.py:2676(geterr)\n",
      "        4    0.000    0.000    0.000    0.000 {method 'split' of 'str' objects}\n",
      "        1    0.000    0.000    0.000    0.000 legendre.py:1795(Legendre)\n",
      "        1    0.000    0.000    0.000    0.000 laguerre.py:1765(Laguerre)\n",
      "        2    0.000    0.000    0.000    0.000 getlimits.py:270(max)\n",
      "        1    0.000    0.000    0.000    0.000 arraysetops.py:26(<module>)\n",
      "        5    0.000    0.000    0.000    0.000 sre_parse.py:85(closegroup)\n",
      "        1    0.000    0.000    0.000    0.000 warnings.py:96(simplefilter)\n",
      "        1    0.000    0.000    0.000    0.000 index_tricks.py:470(__init__)\n",
      "        1    0.000    0.000    0.000    0.000 linalg.py:106(_makearray)\n",
      "        2    0.000    0.000    0.000    0.000 numeric.py:1871(set_string_function)\n",
      "        1    0.000    0.000    0.000    0.000 info.py:83(<module>)\n",
      "       38    0.000    0.000    0.000    0.000 {method 'isalnum' of 'str' objects}\n",
      "        1    0.000    0.000    0.000    0.000 __config__.py:3(<module>)\n",
      "        1    0.000    0.000    0.000    0.000 keyword.py:11(<module>)\n",
      "        1    0.000    0.000    0.000    0.000 {math.exp}\n",
      "        1    0.000    0.000    0.000    0.000 tempfile.py:108(_RandomNameSequence)\n",
      "        1    0.000    0.000    0.000    0.000 _iotools.py:154(LineSplitter)\n",
      "        1    0.000    0.000    0.000    0.000 {_ctypes.set_conversion_mode}\n",
      "        1    0.000    0.000    0.000    0.000 {method 'union' of 'set' objects}\n",
      "        1    0.000    0.000    0.000    0.000 npyio.py:95(NpzFile)\n",
      "        2    0.000    0.000    0.000    0.000 {posix.unsetenv}\n",
      "        1    0.000    0.000    0.000    0.000 copy_reg.py:14(pickle)\n",
      "        7    0.000    0.000    0.000    0.000 case.py:607(_deprecate)\n",
      "        1    0.000    0.000    0.000    0.000 arrayterator.py:20(Arrayterator)\n",
      "        1    0.000    0.000    0.000    0.000 threading.py:373(notify)\n",
      "        1    0.000    0.000    0.000    0.000 index_tricks.py:447(__init__)\n",
      "        1    0.000    0.000    0.000    0.000 codecs.py:92(__new__)\n",
      "        1    0.000    0.000    0.000    0.000 info.py:154(<module>)\n",
      "        1    0.000    0.000    0.000    0.000 _internal.py:200(_getintp_ctype)\n",
      "        1    0.000    0.000    0.000    0.000 collections.py:395(Counter)\n",
      "       20    0.000    0.000    0.000    0.000 _weakrefset.py:16(__init__)\n",
      "        1    0.000    0.000    0.000    0.000 _internal.py:226(_ctypes)\n",
      "        1    0.000    0.000    0.000    0.000 threading.py:255(_Condition)\n",
      "        1    0.000    0.000    0.000    0.000 linalg.py:198(_assertRankAtLeast2)\n",
      "        1    0.000    0.000    0.000    0.000 numbers.py:270(Rational)\n",
      "        1    0.000    0.000    0.000    0.000 info.py:184(<module>)\n",
      "        1    0.000    0.000    0.000    0.000 random.py:805(SystemRandom)\n",
      "        1    0.000    0.000    0.000    0.000 suite.py:252(_ErrorHolder)\n",
      "        7    0.000    0.000    0.000    0.000 _inspect.py:144(<lambda>)\n",
      "        1    0.000    0.000    0.000    0.000 fnmatch.py:11(<module>)\n",
      "        1    0.000    0.000    0.000    0.000 {method 'view' of 'numpy.ndarray' objects}\n",
      "        2    0.000    0.000    0.000    0.000 {method 'setter' of 'property' objects}\n",
      "        1    0.000    0.000    0.000    0.000 {zip}\n",
      "        4    0.000    0.000    0.000    0.000 {thread.allocate_lock}\n",
      "        1    0.000    0.000    0.000    0.000 index_tricks.py:87(nd_grid)\n",
      "       20    0.000    0.000    0.000    0.000 {method 'remove' of 'set' objects}\n",
      "        1    0.000    0.000    0.000    0.000 records.py:215(record)\n",
      "        1    0.000    0.000    0.000    0.000 main.py:63(TestProgram)\n",
      "        3    0.000    0.000    0.000    0.000 linalg.py:111(isComplexType)\n",
      "        1    0.000    0.000    0.000    0.000 linalg.py:209(_assertNdSquareness)\n",
      "       21    0.000    0.000    0.000    0.000 sre_parse.py:145(__setitem__)\n",
      "        1    0.000    0.000    0.000    0.000 difflib.py:1670(HtmlDiff)\n",
      "        1    0.000    0.000    0.000    0.000 info.py:34(<module>)\n",
      "        1    0.000    0.000    0.000    0.000 case.py:1018(FunctionTestCase)\n",
      "        1    0.000    0.000    0.000    0.000 weakref.py:297(__init__)\n",
      "        1    0.000    0.000    0.000    0.000 utils.py:1884(clear_and_catch_warnings)\n",
      "        1    0.000    0.000    0.000    0.000 loader.py:38(TestLoader)\n",
      "        5    0.000    0.000    0.000    0.000 {method 'remove' of 'list' objects}\n",
      "        1    0.000    0.000    0.000    0.000 tempfile.py:383(_TemporaryFileWrapper)\n",
      "        8    0.000    0.000    0.000    0.000 {method '__contains__' of 'frozenset' objects}\n",
      "        1    0.000    0.000    0.000    0.000 warnings.py:361(__enter__)\n",
      "       24    0.000    0.000    0.000    0.000 sre_parse.py:221(isident)\n",
      "        2    0.000    0.000    0.000    0.000 {numpy.core.multiarray.set_string_function}\n",
      "        1    0.000    0.000    0.000    0.000 threading.py:300(_is_owned)\n",
      "        1    0.000    0.000    0.000    0.000 warnings.py:340(__init__)\n",
      "        1    0.000    0.000    0.000    0.000 nosetester.py:128(NoseTester)\n",
      "        1    0.000    0.000    0.000    0.000 UserDict.py:91(get)\n",
      "        1    0.000    0.000    0.000    0.000 __init__.py:428(LibraryLoader)\n",
      "        1    0.000    0.000    0.000    0.000 numeric.py:414(asarray)\n",
      "        1    0.000    0.000    0.000    0.000 pprint.py:84(PrettyPrinter)\n",
      "       20    0.000    0.000    0.000    0.000 {method '__subclasshook__' of 'object' objects}\n",
      "        1    0.000    0.000    0.000    0.000 threading.py:125(_RLock)\n",
      "        8    0.000    0.000    0.000    0.000 {method 'isdigit' of 'str' objects}\n",
      "        1    0.000    0.000    0.000    0.000 npyio.py:40(BagObj)\n",
      "        1    0.000    0.000    0.000    0.000 core.py:6269(__init__)\n",
      "        1    0.000    0.000    0.000    0.000 threading.py:285(__enter__)\n",
      "        1    0.000    0.000    0.000    0.000 runner.py:119(TextTestRunner)\n",
      "        1    0.000    0.000    0.000    0.000 runner.py:28(TextTestResult)\n",
      "        1    0.000    0.000    0.000    0.000 index_tricks.py:525(ndindex)\n",
      "        1    0.000    0.000    0.000    0.000 core.py:6208(_extrema_operation)\n",
      "        1    0.000    0.000    0.000    0.000 StringIO.py:42(StringIO)\n",
      "        1    0.000    0.000    0.000    0.000 numeric.py:2963(__init__)\n",
      "        1    0.000    0.000    0.000    0.000 core.py:830(_DomainGreaterEqual)\n",
      "        1    0.000    0.000    0.000    0.000 core.py:6283(__init__)\n",
      "        6    0.000    0.000    0.000    0.000 {numpy.core.umath.geterrobj}\n",
      "        7    0.000    0.000    0.000    0.000 __future__.py:75(__init__)\n",
      "        1    0.000    0.000    0.000    0.000 _import_tools.py:9(PackageLoader)\n",
      "        1    0.000    0.000    0.000    0.000 numeric.py:484(asanyarray)\n",
      "        5    0.000    0.000    0.000    0.000 _inspect.py:145(<lambda>)\n",
      "        1    0.000    0.000    0.000    0.000 difflib.py:764(Differ)\n",
      "        1    0.000    0.000    0.000    0.000 {method 'astype' of 'numpy.ndarray' objects}\n",
      "        1    0.000    0.000    0.000    0.000 linalg.py:124(_realType)\n",
      "        1    0.000    0.000    0.000    0.000 _datasource.py:154(DataSource)\n",
      "        1    0.000    0.000    0.000    0.000 random.py:655(WichmannHill)\n",
      "        1    0.000    0.000    0.000    0.000 records.py:298(recarray)\n",
      "        6    0.000    0.000    0.000    0.000 {method 'insert' of 'list' objects}\n",
      "        1    0.000    0.000    0.000    0.000 __init__.py:332(CDLL)\n",
      "        1    0.000    0.000    0.000    0.000 {method 'find' of 'str' objects}\n",
      "        1    0.000    0.000    0.000    0.000 warnings.py:377(__exit__)\n",
      "        1    0.000    0.000    0.000    0.000 ctypeslib.py:177(_ndptr)\n",
      "        1    0.000    0.000    0.000    0.000 core.py:6332(_frommethod)\n",
      "        2    0.000    0.000    0.000    0.000 __init__.py:429(__init__)\n",
      "        1    0.000    0.000    0.000    0.000 index_tricks.py:223(AxisConcatenator)\n",
      "        1    0.000    0.000    0.000    0.000 io.py:69(IOBase)\n",
      "        1    0.000    0.000    0.000    0.000 threading.py:288(__exit__)\n",
      "        1    0.000    0.000    0.000    0.000 extras.py:1353(MAxisConcatenator)\n",
      "        1    0.000    0.000    0.000    0.000 contextlib.py:132(closing)\n",
      "        1    0.000    0.000    0.000    0.000 threading.py:64(_note)\n",
      "        1    0.000    0.000    0.000    0.000 threading.py:1079(_MainThread)\n",
      "        1    0.000    0.000    0.000    0.000 io.py:76(BufferedIOBase)\n",
      "        1    0.000    0.000    0.000    0.000 numeric.py:2900(errstate)\n",
      "        1    0.000    0.000    0.000    0.000 core.py:2528(MaskedIterator)\n",
      "        3    0.000    0.000    0.000    0.000 core.py:765(__init__)\n",
      "        1    0.000    0.000    0.000    0.000 __init__.py:243(c_char_p)\n",
      "        1    0.000    0.000    0.000    0.000 core.py:795(_DomainSafeDivide)\n",
      "        1    0.000    0.000    0.000    0.000 {_hashlib.openssl_sha384}\n",
      "        1    0.000    0.000    0.000    0.000 core.py:7779(_convert2ma)\n",
      "        1    0.000    0.000    0.000    0.000 utils.py:56(_Deprecate)\n",
      "        1    0.000    0.000    0.000    0.000 version.py:5(<module>)\n",
      "        2    0.000    0.000    0.000    0.000 sre_parse.py:224(isdigit)\n",
      "        1    0.000    0.000    0.000    0.000 case.py:45(_UnexpectedSuccess)\n",
      "        1    0.000    0.000    0.000    0.000 _datasource.py:74(__init__)\n",
      "        1    0.000    0.000    0.000    0.000 {method 'acquire' of 'thread.lock' objects}\n",
      "        1    0.000    0.000    0.000    0.000 _iotools.py:452(ConverterLockError)\n",
      "        1    0.000    0.000    0.000    0.000 __init__.py:226(c_ubyte)\n",
      "        1    0.000    0.000    0.000    0.000 core.py:6108(__array_finalize__)\n",
      "        1    0.000    0.000    0.000    0.000 case.py:25(SkipTest)\n",
      "        1    0.000    0.000    0.000    0.000 linalg.py:101(get_linalg_error_extobj)\n",
      "        1    0.000    0.000    0.000    0.000 linalg.py:127(_complexType)\n",
      "        1    0.000    0.000    0.000    0.000 core.py:6279(_maximum_operation)\n",
      "        1    0.000    0.000    0.000    0.000 runner.py:12(_WritelnDecorator)\n",
      "        1    0.000    0.000    0.000    0.000 _datasource.py:50(_FileOpeners)\n",
      "        1    0.000    0.000    0.000    0.000 _import_tools.py:341(PackageLoaderDebug)\n",
      "        1    0.000    0.000    0.000    0.000 extras.py:214(_fromnxfunction)\n",
      "        6    0.000    0.000    0.000    0.000 core.py:801(__init__)\n",
      "        3    0.000    0.000    0.000    0.000 __init__.py:494(CFunctionType)\n",
      "        1    0.000    0.000    0.000    0.000 threading.py:552(_Event)\n",
      "        2    0.000    0.000    0.000    0.000 {method 'clear' of 'dict' objects}\n",
      "        1    0.000    0.000    0.000    0.000 __init__.py:260(c_bool)\n",
      "        1    0.000    0.000    0.000    0.000 _datasource.py:504(Repository)\n",
      "        1    0.000    0.000    0.000    0.000 signals.py:9(_InterruptHandler)\n",
      "        1    0.000    0.000    0.000    0.000 polyutils.py:66(PolyDomainError)\n",
      "        1    0.000    0.000    0.000    0.000 unicode_escape.py:20(IncrementalEncoder)\n",
      "        1    0.000    0.000    0.000    0.000 arrayprint.py:634(IntegerFormat)\n",
      "        1    0.000    0.000    0.000    0.000 arrayprint.py:695(ComplexFormat)\n",
      "        1    0.000    0.000    0.000    0.000 __future__.py:74(_Feature)\n",
      "        1    0.000    0.000    0.000    0.000 arrayprint.py:528(FloatFormat)\n",
      "        1    0.000    0.000    0.000    0.000 case.py:98(_AssertRaisesContext)\n",
      "        1    0.000    0.000    0.000    0.000 {method '__exit__' of 'thread.lock' objects}\n",
      "        7    0.000    0.000    0.000    0.000 {method 'pop' of 'dict' objects}\n",
      "        3    0.000    0.000    0.000    0.000 utils.py:68(__init__)\n",
      "        1    0.000    0.000    0.000    0.000 __init__.py:159(py_object)\n",
      "        3    0.000    0.000    0.000    0.000 utils.py:51(_set_function_name)\n",
      "        1    0.000    0.000    0.000    0.000 core.py:756(_DomainCheckInterval)\n",
      "        1    0.000    0.000    0.000    0.000 unicode_escape.py:13(Codec)\n",
      "        1    0.000    0.000    0.000    0.000 function_base.py:2047(vectorize)\n",
      "        1    0.000    0.000    0.000    0.000 core.py:6265(_minimum_operation)\n",
      "        1    0.000    0.000    0.000    0.000 index_tricks.py:475(ndenumerate)\n",
      "        1    0.000    0.000    0.000    0.000 index_tricks.py:603(IndexExpression)\n",
      "        1    0.000    0.000    0.000    0.000 threading.py:780(_set_ident)\n",
      "        1    0.000    0.000    0.000    0.000 utils.py:37(KnownFailureException)\n",
      "        1    0.000    0.000    0.000    0.000 threading.py:515(_BoundedSemaphore)\n",
      "        1    0.000    0.000    0.000    0.000 utils.py:1615(WarningManager)\n",
      "        1    0.000    0.000    0.000    0.000 core.py:2317(__init__)\n",
      "        1    0.000    0.000    0.000    0.000 machar.py:17(MachAr)\n",
      "        1    0.000    0.000    0.000    0.000 memmap.py:20(memmap)\n",
      "        1    0.000    0.000    0.000    0.000 threading.py:423(_Semaphore)\n",
      "        1    0.000    0.000    0.000    0.000 core.py:125(MAError)\n",
      "        1    0.000    0.000    0.000    0.000 __init__.py:168(c_short)\n",
      "        1    0.000    0.000    0.000    0.000 core.py:1078(_DomainedBinaryOperation)\n",
      "        1    0.000    0.000    0.000    0.000 linalg.py:219(_assertNoEmpty2d)\n",
      "        1    0.000    0.000    0.000    0.000 suite.py:78(TestSuite)\n",
      "        3    0.000    0.000    0.000    0.000 UserDict.py:103(__contains__)\n",
      "        4    0.000    0.000    0.000    0.000 threading.py:59(__init__)\n",
      "        1    0.000    0.000    0.000    0.000 core.py:921(_MaskedBinaryOperation)\n",
      "        1    0.000    0.000    0.000    0.000 suite.py:16(BaseTestSuite)\n",
      "        1    0.000    0.000    0.000    0.000 {_hashlib.openssl_md5}\n",
      "        1    0.000    0.000    0.000    0.000 _iotools.py:444(ConverterError)\n",
      "        1    0.000    0.000    0.000    0.000 __init__.py:359(_FuncPtr)\n",
      "        1    0.000    0.000    0.000    0.000 _iotools.py:460(ConversionWarning)\n",
      "        1    0.000    0.000    0.000    0.000 threading.py:1119(_DummyThread)\n",
      "        1    0.000    0.000    0.000    0.000 {_ctypes.dlopen}\n",
      "        1    0.000    0.000    0.000    0.000 utils.py:1002(SafeEval)\n",
      "        1    0.000    0.000    0.000    0.000 core.py:815(_DomainGreater)\n",
      "        1    0.000    0.000    0.000    0.000 _version.py:18(NumpyVersion)\n",
      "        1    0.000    0.000    0.000    0.000 {method '__enter__' of 'thread.lock' objects}\n",
      "        1    0.000    0.000    0.000    0.000 core.py:133(MaskError)\n",
      "        3    0.000    0.000    0.000    0.000 core.py:821(__init__)\n",
      "        1    0.000    0.000    0.000    0.000 __init__.py:388(PyDLL)\n",
      "        1    0.000    0.000    0.000    0.000 suite.py:299(_DebugResult)\n",
      "        1    0.000    0.000    0.000    0.000 case.py:34(_ExpectedFailure)\n",
      "        1    0.000    0.000    0.000    0.000 getlimits.py:25(finfo)\n",
      "        1    0.000    0.000    0.000    0.000 records.py:83(format_parser)\n",
      "        2    0.000    0.000    0.000    0.000 index_tricks.py:148(__init__)\n",
      "        1    0.000    0.000    0.000    0.000 contextlib.py:9(GeneratorContextManager)\n",
      "        1    0.000    0.000    0.000    0.000 arrayprint.py:733(TimedeltaFormat)\n",
      "        1    0.000    0.000    0.000    0.000 numbers.py:13(Number)\n",
      "        1    0.000    0.000    0.000    0.000 core.py:778(_DomainTan)\n",
      "        1    0.000    0.000    0.000    0.000 {numpy.core.multiarray.set_typeDict}\n",
      "        1    0.000    0.000    0.000    0.000 numerictypes.py:765(_typedict)\n",
      "        1    0.000    0.000    0.000    0.000 shutil.py:38(ExecError)\n",
      "        1    0.000    0.000    0.000    0.000 {_hashlib.openssl_sha1}\n",
      "        1    0.000    0.000    0.000    0.000 __init__.py:291(c_wchar_p)\n",
      "        1    0.000    0.000    0.000    0.000 polyutils.py:58(RankWarning)\n",
      "        1    0.000    0.000    0.000    0.000 utils.py:1844(IgnoreException)\n",
      "        1    0.000    0.000    0.000    0.000 polynomial.py:22(RankWarning)\n",
      "        1    0.000    0.000    0.000    0.000 __init__.py:294(c_wchar)\n",
      "        1    0.000    0.000    0.000    0.000 {_hashlib.openssl_sha224}\n",
      "        1    0.000    0.000    0.000    0.000 __init__.py:135(_NoValue)\n",
      "        1    0.000    0.000    0.000    0.000 polyutils.py:79(PolyBase)\n",
      "        1    0.000    0.000    0.000    0.000 arrayprint.py:712(DatetimeFormat)\n",
      "        1    0.000    0.000    0.000    0.000 shutil.py:34(SpecialFileError)\n",
      "        1    0.000    0.000    0.000    0.000 __init__.py:197(c_float)\n",
      "        1    0.000    0.000    0.000    0.000 __init__.py:172(c_ushort)\n",
      "        1    0.000    0.000    0.000    0.000 polyutils.py:62(PolyError)\n",
      "        1    0.000    0.000    0.000    0.000 threading.py:57(_Verbose)\n",
      "        1    0.000    0.000    0.000    0.000 {max}\n",
      "        1    0.000    0.000    0.000    0.000 threading.py:1049(_Timer)\n",
      "        1    0.000    0.000    0.000    0.000 __init__.py:233(c_byte)\n",
      "        1    0.000    0.000    0.000    0.000 utils.py:1583(WarningMessage)\n",
      "        1    0.000    0.000    0.000    0.000 index_tricks.py:352(RClass)\n",
      "        1    0.000    0.000    0.000    0.000 __init__.py:112(ModuleDeprecationWarning)\n",
      "        1    0.000    0.000    0.000    0.000 {_hashlib.openssl_sha256}\n",
      "        1    0.000    0.000    0.000    0.000 core.py:845(_MaskedUnaryOperation)\n",
      "        1    0.000    0.000    0.000    0.000 io.py:79(TextIOBase)\n",
      "        1    0.000    0.000    0.000    0.000 unicode_escape.py:28(StreamWriter)\n",
      "        1    0.000    0.000    0.000    0.000 threading.py:1088(_set_daemon)\n",
      "        2    0.000    0.000    0.000    0.000 {thread.get_ident}\n",
      "        1    0.000    0.000    0.000    0.000 linalg.py:43(LinAlgError)\n",
      "        1    0.000    0.000    0.000    0.000 __init__.py:255(c_void_p)\n",
      "        1    0.000    0.000    0.000    0.000 arrayprint.py:684(LongComplexFormat)\n",
      "        1    0.000    0.000    0.000    0.000 copy_reg.py:27(constructor)\n",
      "        1    0.000    0.000    0.000    0.000 extras.py:1419(mr_class)\n",
      "        1    0.000    0.000    0.000    0.000 numeric.py:55(ComplexWarning)\n",
      "        1    0.000    0.000    0.000    0.000 __init__.py:124(VisibleDeprecationWarning)\n",
      "        3    0.000    0.000    0.000    0.000 __init__.py:104(CFunctionType)\n",
      "        1    0.000    0.000    0.000    0.000 {math.sqrt}\n",
      "        1    0.000    0.000    0.000    0.000 core.py:786(__init__)\n",
      "        1    0.000    0.000    0.000    0.000 stride_tricks.py:15(DummyArray)\n",
      "        1    0.000    0.000    0.000    0.000 __init__.py:193(c_uint)\n",
      "        1    0.000    0.000    0.000    0.000 numeric.py:2896(_unspecified)\n",
      "        1    0.000    0.000    0.000    0.000 core.py:85(MaskedArrayFutureWarning)\n",
      "        1    0.000    0.000    0.000    0.000 __init__.py:201(c_double)\n",
      "        1    0.000    0.000    0.000    0.000 __init__.py:189(c_int)\n",
      "        1    0.000    0.000    0.000    0.000 {_hashlib.openssl_sha512}\n",
      "        1    0.000    0.000    0.000    0.000 __init__.py:238(c_char)\n",
      "        1    0.000    0.000    0.000    0.000 _endian.py:26(_swapped_meta)\n",
      "        2    0.000    0.000    0.000    0.000 index_tricks.py:647(__init__)\n",
      "        1    0.000    0.000    0.000    0.000 _endian.py:49(BigEndianStructure)\n",
      "        1    0.000    0.000    0.000    0.000 _internal.py:219(_missing_ctypes)\n",
      "        1    0.000    0.000    0.000    0.000 __init__.py:205(c_longdouble)\n",
      "        1    0.000    0.000    0.000    0.000 index_tricks.py:452(CClass)\n",
      "        1    0.000    0.000    0.000    0.000 __init__.py:180(c_ulong)\n",
      "        1    0.000    0.000    0.000    0.000 unicode_escape.py:24(IncrementalDecoder)\n",
      "        1    0.000    0.000    0.000    0.000 __init__.py:176(c_long)\n",
      "        1    0.000    0.000    0.000    0.000 _internal.py:631(TooHardError)\n",
      "        1    0.000    0.000    0.000    0.000 shutil.py:31(Error)\n",
      "        1    0.000    0.000    0.000    0.000 io.py:73(RawIOBase)\n",
      "        1    0.000    0.000    0.000    0.000 arrayprint.py:654(LongFloatFormat)\n",
      "        2    0.000    0.000    0.000    0.000 core.py:836(__init__)\n",
      "        1    0.000    0.000    0.000    0.000 unicode_escape.py:31(StreamReader)\n",
      "        1    0.000    0.000    0.000    0.000 {method 'disable' of '_lsprof.Profiler' objects}\n",
      "\n",
      "\n"
     ]
    }
   ],
   "source": [
    "!python -m cProfile -s cumulative cprof_example.py"
   ]
  },
  {
   "cell_type": "code",
   "execution_count": 21,
   "metadata": {
    "collapsed": true
   },
   "outputs": [],
   "source": [
    "class Greeter:\n",
    "    def __init__(self, msg):\n",
    "        self.msg = msg\n",
    "    def __repr__(self):\n",
    "        return \"Message : %s\" % self.msg"
   ]
  },
  {
   "cell_type": "code",
   "execution_count": 22,
   "metadata": {
    "collapsed": false
   },
   "outputs": [
    {
     "data": {
      "text/plain": [
       "Message : I am grateful"
      ]
     },
     "execution_count": 22,
     "metadata": {},
     "output_type": "execute_result"
    }
   ],
   "source": [
    "x = Greeter(\"I am grateful\")\n",
    "x"
   ]
  },
  {
   "cell_type": "code",
   "execution_count": 24,
   "metadata": {
    "collapsed": false
   },
   "outputs": [
    {
     "name": "stdout",
     "output_type": "stream",
     "text": [
      "[ 1.   6.7  3.   2.5]\n"
     ]
    }
   ],
   "source": [
    "data = [1,6.7,3,2.5]\n",
    "arr1 = np.array(data)\n",
    "print arr1"
   ]
  },
  {
   "cell_type": "code",
   "execution_count": 64,
   "metadata": {
    "collapsed": false
   },
   "outputs": [],
   "source": [
    "data = np.random.randn(7,4)\n",
    "names = np.array(['Bob', 'Joe', 'Will', 'Bob', 'Will', 'Joe', 'Joe'])"
   ]
  },
  {
   "cell_type": "code",
   "execution_count": 94,
   "metadata": {
    "collapsed": false
   },
   "outputs": [
    {
     "data": {
      "text/plain": [
       "array([[ 0.,  0.,  0.,  0.],\n",
       "       [ 1.,  1.,  1.,  1.],\n",
       "       [ 2.,  2.,  2.,  2.],\n",
       "       [ 3.,  3.,  3.,  3.],\n",
       "       [ 4.,  4.,  4.,  4.],\n",
       "       [ 5.,  5.,  5.,  5.],\n",
       "       [ 6.,  6.,  6.,  6.],\n",
       "       [ 7.,  7.,  7.,  7.]])"
      ]
     },
     "execution_count": 94,
     "metadata": {},
     "output_type": "execute_result"
    }
   ],
   "source": [
    "arr = np.empty((8,4))\n",
    "for i in range(8):\n",
    "    arr[i,:] = i\n",
    "arr"
   ]
  },
  {
   "cell_type": "code",
   "execution_count": 99,
   "metadata": {
    "collapsed": false
   },
   "outputs": [
    {
     "data": {
      "text/plain": [
       "array([[-0.89213371,  0.89853129, -0.77859847],\n",
       "       [ 0.13919284, -0.61229128, -1.4298755 ],\n",
       "       [-0.26943731, -0.98894912,  0.62258565],\n",
       "       [-0.58963184,  0.72409058,  1.62164625]])"
      ]
     },
     "execution_count": 99,
     "metadata": {},
     "output_type": "execute_result"
    }
   ],
   "source": [
    "rand_arr = np.random.randn(4,3)\n",
    "rand_arr"
   ]
  },
  {
   "cell_type": "code",
   "execution_count": 112,
   "metadata": {
    "collapsed": false
   },
   "outputs": [
    {
     "name": "stdout",
     "output_type": "stream",
     "text": [
      "[  6.20301650e-01   3.81451833e-04  -3.65683122e-02  -4.75295628e-01\n",
      "   5.16016378e-01   1.13203483e+00  -4.67928285e-01   9.76955991e-01]\n",
      "[ 1.70974641 -0.26510964  0.47380398  0.52664989 -0.99866956 -0.31725434\n",
      " -0.12221691 -1.04265385]\n",
      "1.1320348333\n",
      "1.70974640505\n",
      "[  1.70974641e+00   3.81451833e-04   4.73803982e-01   5.26649893e-01\n",
      "   5.16016378e-01   1.13203483e+00  -1.22216912e-01   9.76955991e-01]\n"
     ]
    }
   ],
   "source": [
    "x = np.random.randn(8)\n",
    "y = np.random.randn(8)\n",
    "print x\n",
    "print y\n",
    "print np.max(x)\n",
    "print np.max(y)\n",
    "print np.maximum(x,y)"
   ]
  },
  {
   "cell_type": "code",
   "execution_count": 124,
   "metadata": {
    "collapsed": false
   },
   "outputs": [
    {
     "name": "stdout",
     "output_type": "stream",
     "text": [
      "[ -5.00000000e+00  -4.90000000e+00  -4.80000000e+00  -4.70000000e+00\n",
      "  -4.60000000e+00  -4.50000000e+00  -4.40000000e+00  -4.30000000e+00\n",
      "  -4.20000000e+00  -4.10000000e+00  -4.00000000e+00  -3.90000000e+00\n",
      "  -3.80000000e+00  -3.70000000e+00  -3.60000000e+00  -3.50000000e+00\n",
      "  -3.40000000e+00  -3.30000000e+00  -3.20000000e+00  -3.10000000e+00\n",
      "  -3.00000000e+00  -2.90000000e+00  -2.80000000e+00  -2.70000000e+00\n",
      "  -2.60000000e+00  -2.50000000e+00  -2.40000000e+00  -2.30000000e+00\n",
      "  -2.20000000e+00  -2.10000000e+00  -2.00000000e+00  -1.90000000e+00\n",
      "  -1.80000000e+00  -1.70000000e+00  -1.60000000e+00  -1.50000000e+00\n",
      "  -1.40000000e+00  -1.30000000e+00  -1.20000000e+00  -1.10000000e+00\n",
      "  -1.00000000e+00  -9.00000000e-01  -8.00000000e-01  -7.00000000e-01\n",
      "  -6.00000000e-01  -5.00000000e-01  -4.00000000e-01  -3.00000000e-01\n",
      "  -2.00000000e-01  -1.00000000e-01  -1.77635684e-14   1.00000000e-01\n",
      "   2.00000000e-01   3.00000000e-01   4.00000000e-01   5.00000000e-01\n",
      "   6.00000000e-01   7.00000000e-01   8.00000000e-01   9.00000000e-01\n",
      "   1.00000000e+00   1.10000000e+00   1.20000000e+00   1.30000000e+00\n",
      "   1.40000000e+00   1.50000000e+00   1.60000000e+00   1.70000000e+00\n",
      "   1.80000000e+00   1.90000000e+00   2.00000000e+00   2.10000000e+00\n",
      "   2.20000000e+00   2.30000000e+00   2.40000000e+00   2.50000000e+00\n",
      "   2.60000000e+00   2.70000000e+00   2.80000000e+00   2.90000000e+00\n",
      "   3.00000000e+00   3.10000000e+00   3.20000000e+00   3.30000000e+00\n",
      "   3.40000000e+00   3.50000000e+00   3.60000000e+00   3.70000000e+00\n",
      "   3.80000000e+00   3.90000000e+00   4.00000000e+00   4.10000000e+00\n",
      "   4.20000000e+00   4.30000000e+00   4.40000000e+00   4.50000000e+00\n",
      "   4.60000000e+00   4.70000000e+00   4.80000000e+00   4.90000000e+00]\n"
     ]
    }
   ],
   "source": [
    "a = np.arange(-5,5,0.1)\n",
    "print a\n",
    "xs,ys = np.meshgrid(a,a)"
   ]
  },
  {
   "cell_type": "code",
   "execution_count": 127,
   "metadata": {
    "collapsed": false
   },
   "outputs": [
    {
     "name": "stdout",
     "output_type": "stream",
     "text": [
      "[[ 50.    49.01  48.04 ...,  47.09  48.04  49.01]\n",
      " [ 49.01  48.02  47.05 ...,  46.1   47.05  48.02]\n",
      " [ 48.04  47.05  46.08 ...,  45.13  46.08  47.05]\n",
      " ..., \n",
      " [ 47.09  46.1   45.13 ...,  44.18  45.13  46.1 ]\n",
      " [ 48.04  47.05  46.08 ...,  45.13  46.08  47.05]\n",
      " [ 49.01  48.02  47.05 ...,  46.1   47.05  48.02]]\n"
     ]
    }
   ],
   "source": [
    "z = (xs**2 + ys**2)\n",
    "print z"
   ]
  },
  {
   "cell_type": "code",
   "execution_count": 134,
   "metadata": {
    "collapsed": false
   },
   "outputs": [
    {
     "data": {
      "text/plain": [
       "array([ 1,  7,  3,  9, 10])"
      ]
     },
     "execution_count": 134,
     "metadata": {},
     "output_type": "execute_result"
    }
   ],
   "source": [
    "xarr = np.array([1,2,3,4,5])\n",
    "yarr = np.array([6,7,8,9,10])\n",
    "condn = np.array([True, False, True, False, False])\n",
    "result = np.where(condn,xarr,yarr)\n",
    "result"
   ]
  },
  {
   "cell_type": "code",
   "execution_count": 11,
   "metadata": {
    "collapsed": false
   },
   "outputs": [
    {
     "name": "stdout",
     "output_type": "stream",
     "text": [
      "[[ 1.10204963  0.9562473  -0.66371926 -0.00193939]\n",
      " [-1.16356839 -0.21225506  0.63615842 -1.04159213]\n",
      " [ 0.78918603  1.78833943  0.3669307  -0.27295407]\n",
      " [ 1.04304393 -0.19494739 -0.08094318 -0.03074654]]\n",
      "\n",
      "[[-0.66371926 -0.00193939  0.9562473   1.10204963]\n",
      " [-1.16356839 -1.04159213 -0.21225506  0.63615842]\n",
      " [-0.27295407  0.3669307   0.78918603  1.78833943]\n",
      " [-0.19494739 -0.08094318 -0.03074654  1.04304393]]\n",
      "\n",
      "[[-1.16356839 -0.21225506 -0.66371926 -1.04159213]\n",
      " [ 0.78918603 -0.19494739 -0.08094318 -0.27295407]\n",
      " [ 1.04304393  0.9562473   0.3669307  -0.03074654]\n",
      " [ 1.10204963  1.78833943  0.63615842 -0.00193939]]\n",
      "\n",
      "[[  1.00000000e+00  -1.11022302e-16  -6.93889390e-17  -1.38777878e-16]\n",
      " [  0.00000000e+00   1.00000000e+00   4.85722573e-17   1.35308431e-16]\n",
      " [ -3.33066907e-16   0.00000000e+00   1.00000000e+00  -4.78783679e-16]\n",
      " [ -2.22044605e-16  -4.16333634e-17   3.46944695e-17   1.00000000e+00]]\n"
     ]
    }
   ],
   "source": [
    "from numpy.linalg import inv, qr\n",
    "a = np.random.randn(4,4)\n",
    "print a\n",
    "print \"\"\n",
    "print np.sort(a)\n",
    "print \"\"\n",
    "print np.sort(a, axis=0)\n",
    "# Check how the mutiplication of transpose of a matrix and the matrix gives a s a result\n",
    "print \"\"\n",
    "b = np.dot(inv(a) ,a)\n",
    "print b"
   ]
  },
  {
   "cell_type": "code",
   "execution_count": 177,
   "metadata": {
    "collapsed": false
   },
   "outputs": [
    {
     "name": "stdout",
     "output_type": "stream",
     "text": [
      "['Bob' 'Joe' 'Will' 'Bob' 'Will' 'Joe' 'Joe']\n",
      "['Bob' 'Joe' 'Will']\n",
      "set(['Will', 'Bob', 'Joe'])\n"
     ]
    }
   ],
   "source": [
    "print names\n",
    "print np.unique(names)\n",
    "print set(names)"
   ]
  },
  {
   "cell_type": "code",
   "execution_count": 180,
   "metadata": {
    "collapsed": false
   },
   "outputs": [
    {
     "data": {
      "text/plain": [
       "array([[ 28,  64],\n",
       "       [ 67, 181]])"
      ]
     },
     "execution_count": 180,
     "metadata": {},
     "output_type": "execute_result"
    }
   ],
   "source": [
    "x = np.array([[1,2,3], [4,5,6]])\n",
    "y = np.array([[6,23], [-1,7], [8,9]])\n",
    "np.dot(x,y)"
   ]
  },
  {
   "cell_type": "code",
   "execution_count": 184,
   "metadata": {
    "collapsed": false
   },
   "outputs": [
    {
     "name": "stdout",
     "output_type": "stream",
     "text": [
      "[ 1.  1.  1.]\n"
     ]
    },
    {
     "data": {
      "text/plain": [
       "array([  6.,  15.])"
      ]
     },
     "execution_count": 184,
     "metadata": {},
     "output_type": "execute_result"
    }
   ],
   "source": [
    "print np.ones(3)\n",
    "np.dot(x, np.ones(3))"
   ]
  },
  {
   "cell_type": "code",
   "execution_count": 12,
   "metadata": {
    "collapsed": false
   },
   "outputs": [
    {
     "data": {
      "text/plain": [
       "array([[  1.00000000e+00,  -3.40005801e-16,   2.35326082e-16,\n",
       "         -4.42354486e-17],\n",
       "       [  0.00000000e+00,   1.00000000e+00,   0.00000000e+00,\n",
       "          0.00000000e+00],\n",
       "       [  5.55111512e-17,   0.00000000e+00,   1.00000000e+00,\n",
       "          5.55111512e-17],\n",
       "       [  1.80411242e-16,   1.66533454e-16,  -1.47451495e-16,\n",
       "          1.00000000e+00]])"
      ]
     },
     "execution_count": 12,
     "metadata": {},
     "output_type": "execute_result"
    }
   ],
   "source": [
    "a.dot(inv(a))"
   ]
  }
 ],
 "metadata": {
  "kernelspec": {
   "display_name": "Python 2",
   "language": "python",
   "name": "python2"
  },
  "language_info": {
   "codemirror_mode": {
    "name": "ipython",
    "version": 2
   },
   "file_extension": ".py",
   "mimetype": "text/x-python",
   "name": "python",
   "nbconvert_exporter": "python",
   "pygments_lexer": "ipython2",
   "version": "2.7.11"
  }
 },
 "nbformat": 4,
 "nbformat_minor": 0
}
